{
 "cells": [
  {
   "cell_type": "code",
   "execution_count": 438,
   "metadata": {
    "ExecuteTime": {
     "end_time": "2019-07-30T18:51:18.608801Z",
     "start_time": "2019-07-30T18:51:18.572048Z"
    }
   },
   "outputs": [
    {
     "name": "stdout",
     "output_type": "stream",
     "text": [
      "The autoreload extension is already loaded. To reload it, use:\n",
      "  %reload_ext autoreload\n"
     ]
    }
   ],
   "source": [
    "%load_ext autoreload\n",
    "%autoreload 2\n",
    "%matplotlib inline"
   ]
  },
  {
   "cell_type": "code",
   "execution_count": 439,
   "metadata": {
    "ExecuteTime": {
     "end_time": "2019-07-30T18:51:18.824681Z",
     "start_time": "2019-07-30T18:51:18.794860Z"
    }
   },
   "outputs": [],
   "source": [
    "#export\n",
    "from nb_00 import *"
   ]
  },
  {
   "cell_type": "code",
   "execution_count": 442,
   "metadata": {
    "ExecuteTime": {
     "end_time": "2019-07-30T18:51:19.690184Z",
     "start_time": "2019-07-30T18:51:19.644108Z"
    }
   },
   "outputs": [],
   "source": [
    "#export\n",
    "def ParseRM(path,genome,removelist,workdir=None,extension=\".fa.out\",JUPYTER=False):\n",
    "    # If running in jupyter write to RM path. Else do it in nextflow\n",
    "    if JUPYTER:\n",
    "        folderout = f'{path}/ParsedRepeatMaskerGFF'\n",
    "    else:\n",
    "        folderout = f'{workdir}/ParsedRepeatMaskerGFF'\n",
    "        \n",
    "    \n",
    "    with open(\"test.gff\",\"w\") as outfile:\n",
    "        outfile.write(\"yoooo\")\n",
    "        \n",
    "    "
   ]
  },
  {
   "cell_type": "code",
   "execution_count": 443,
   "metadata": {
    "ExecuteTime": {
     "end_time": "2019-07-30T18:51:20.491728Z",
     "start_time": "2019-07-30T18:51:20.138878Z"
    }
   },
   "outputs": [
    {
     "name": "stdout",
     "output_type": "stream",
     "text": [
      "Starting bedtools to extract RE fastas\n",
      "Done extracting RE fastas\n"
     ]
    }
   ],
   "source": [
    "ParseRM(path=\"test/RepeatMasker_test\",extension=\".fa.out\",genome=\"/Users/m/Google_Drive/Scripts/IGVfiles/hg38/hg38.fa\", removelist = [\"Simple_repeat\",\"Low_complexity\",\"rRNA\"], JUPYTER=True)"
   ]
  },
  {
   "cell_type": "code",
   "execution_count": 444,
   "metadata": {
    "ExecuteTime": {
     "end_time": "2019-07-30T18:51:20.657531Z",
     "start_time": "2019-07-30T18:51:20.618953Z"
    }
   },
   "outputs": [],
   "source": [
    "#export\n",
    "import argparse\n",
    "def parse_arguments():\n",
    "        parser = argparse.ArgumentParser(description='Checking Paired or not or if its zipped.')\n",
    "        parser.add_argument('--path', action= 'store', metavar='path') \n",
    "        parser.add_argument('--genome', action= 'store', metavar='genome')\n",
    "        parser.add_argument('--verbose', action= 'store', metavar='verbose', default= False) \n",
    "        parser.add_argument('--removelist', action= 'store', metavar='removelist', default= False) \n",
    "        parser.add_argument('--workdir', action= 'store', metavar='workdir', default= False) \n",
    "        args = parser.parse_args()\n",
    "        return args\n"
   ]
  },
  {
   "cell_type": "code",
   "execution_count": 445,
   "metadata": {
    "ExecuteTime": {
     "end_time": "2019-07-30T18:51:21.279057Z",
     "start_time": "2019-07-30T18:51:21.242992Z"
    }
   },
   "outputs": [
    {
     "name": "stderr",
     "output_type": "stream",
     "text": [
      "usage: ipykernel_launcher.py [-h] [--path path] [--genome genome]\n",
      "                             [--verbose verbose] [--removelist removelist]\n",
      "                             [--workdir workdir]\n",
      "ipykernel_launcher.py: error: unrecognized arguments: -f /Users/M/Library/Jupyter/runtime/kernel-238395fc-aff6-4781-842b-eb48e6748522.json\n"
     ]
    },
    {
     "ename": "SystemExit",
     "evalue": "2",
     "output_type": "error",
     "traceback": [
      "An exception has occurred, use %tb to see the full traceback.\n",
      "\u001b[0;31mSystemExit\u001b[0m\u001b[0;31m:\u001b[0m 2\n"
     ]
    }
   ],
   "source": [
    "#export\n",
    "#Ignore error, run this cell to get proper export of function\n",
    "#to python script\n",
    "if __name__==\"__main__\":\n",
    "    args = parse_arguments()\n",
    "    verbose = fix_bool(args.verbose)\n",
    "    path = args.path\n",
    "    genome = args.genome\n",
    "    workdir = args.workdir\n",
    "    removelist = args.removelist.split(\",\")\n",
    "    ParseRM(path=path, removelist = removelist, genome=genome)\n",
    "        "
   ]
  },
  {
   "cell_type": "code",
   "execution_count": 446,
   "metadata": {
    "ExecuteTime": {
     "end_time": "2019-07-30T18:51:24.230259Z",
     "start_time": "2019-07-30T18:51:21.754973Z"
    }
   },
   "outputs": [
    {
     "name": "stdout",
     "output_type": "stream",
     "text": [
      "Converted 01ParseRepeatMaskerOutput.ipynb to nb_01ParseRepeatMaskerOutput.py\r\n"
     ]
    }
   ],
   "source": [
    "!python notebook2script.py 01TestNotebook.ipynb"
   ]
  },
  {
   "cell_type": "code",
   "execution_count": 447,
   "metadata": {
    "ExecuteTime": {
     "end_time": "2019-07-30T18:51:24.267439Z",
     "start_time": "2019-07-30T18:51:24.232846Z"
    }
   },
   "outputs": [],
   "source": [
    "#Test python script in bash\n",
    "#!python nb_01ParseRepeatMaskerOutput.py --path \"test/RepeatMasker_test\" --removelist \"Simple_repeat,Low_complexity,rRNA\" --genomename  "
   ]
  },
  {
   "cell_type": "code",
   "execution_count": null,
   "metadata": {},
   "outputs": [],
   "source": []
  },
  {
   "cell_type": "code",
   "execution_count": null,
   "metadata": {},
   "outputs": [],
   "source": []
  },
  {
   "cell_type": "code",
   "execution_count": null,
   "metadata": {},
   "outputs": [],
   "source": []
  }
 ],
 "metadata": {
  "kernelspec": {
   "display_name": "Python 3",
   "language": "python",
   "name": "python3"
  },
  "language_info": {
   "codemirror_mode": {
    "name": "ipython",
    "version": 3
   },
   "file_extension": ".py",
   "mimetype": "text/x-python",
   "name": "python",
   "nbconvert_exporter": "python",
   "pygments_lexer": "ipython3",
   "version": "3.7.3"
  },
  "toc": {
   "base_numbering": 1,
   "nav_menu": {},
   "number_sections": true,
   "sideBar": true,
   "skip_h1_title": false,
   "title_cell": "Table of Contents",
   "title_sidebar": "Contents",
   "toc_cell": false,
   "toc_position": {},
   "toc_section_display": true,
   "toc_window_display": false
  }
 },
 "nbformat": 4,
 "nbformat_minor": 1
}
