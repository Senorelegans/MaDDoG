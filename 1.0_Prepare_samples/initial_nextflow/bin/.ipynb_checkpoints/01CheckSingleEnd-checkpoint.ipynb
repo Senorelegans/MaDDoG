{
 "cells": [
  {
   "cell_type": "code",
   "execution_count": 4,
   "metadata": {
    "ExecuteTime": {
     "end_time": "2019-07-30T14:14:09.324481Z",
     "start_time": "2019-07-30T14:14:09.013410Z"
    }
   },
   "outputs": [
    {
     "name": "stdout",
     "output_type": "stream",
     "text": [
      "The autoreload extension is already loaded. To reload it, use:\n",
      "  %reload_ext autoreload\n"
     ]
    }
   ],
   "source": [
    "%load_ext autoreload\n",
    "%autoreload 2\n",
    "%matplotlib inline"
   ]
  },
  {
   "cell_type": "code",
   "execution_count": 5,
   "metadata": {
    "ExecuteTime": {
     "end_time": "2019-07-30T14:14:09.403764Z",
     "start_time": "2019-07-30T14:14:09.374458Z"
    }
   },
   "outputs": [],
   "source": [
    "#export\n",
    "from nb_00 import *"
   ]
  },
  {
   "cell_type": "code",
   "execution_count": 6,
   "metadata": {
    "ExecuteTime": {
     "end_time": "2019-07-30T14:14:10.120782Z",
     "start_time": "2019-07-30T14:14:10.078938Z"
    }
   },
   "outputs": [],
   "source": [
    "#export\n",
    "def check_Paired(path, verbose=False, gzcat=False):\n",
    "    if verbose:\n",
    "        print(f\"Verbose is set to  {verbose}\")\n",
    "        print(\"Checking first two files sorted by name to see if the read pairs match. If they do we assume paired end\")\n",
    "    \n",
    "    try: \n",
    "        for f in glob.glob(f'{path}/*_test.fq'): \n",
    "            os.remove(f) # Remove oneline headers from previous runs    \n",
    "            print(\"removing\", f)\n",
    "    except: \n",
    "        pass\n",
    "        \n",
    "        \n",
    "\n",
    "    fqs = glob.glob(f'{path}/*.fastq') + glob.glob(f'{path}/*.fq')\n",
    "    if len(fqs) > 1:\n",
    "        ZIPPED = False\n",
    "        \n",
    "    zfqs = glob.glob(f'{path}/*.fastq.gz') + glob.glob(f'{path}/*.fq.gz')\n",
    "\n",
    "    if verbose:\n",
    "        if (len(zfqs) > 1) and (len(fqs) > 1):\n",
    "            print(\"Detected zipped and unzipped fastqs. Using only zipped fastqs.\")\n",
    "\n",
    "    if len(zfqs) > 1:\n",
    "        ZIPPED = True\n",
    "        fqs = zfqs\n",
    "    \n",
    "    if len(fqs) < 1:\n",
    "        print(\"No fastqs detected. Check File inputs!!!\")\n",
    "        return\n",
    "    \n",
    "    fqs = sorted(fqs)\n",
    "    f1 = fqs[0]\n",
    "    f2 = fqs[1]\n",
    "    f1t = f'{f1}_test.fq'\n",
    "    f2t = f'{f2}_test.fq'\n",
    "    \n",
    "    if ZIPPED:\n",
    "        if gzcat:\n",
    "            subprocess.run(f\"gzcat {f1} | head -n 1 > {f1t}\", shell=True)\n",
    "            subprocess.run(f\"gzcat {f2} | head -n 1 > {f2t}\", shell=True)\n",
    "        else:\n",
    "            subprocess.run(f\"zcat {f1} | head -n 1 > {f1t}\", shell=True)\n",
    "            subprocess.run(f\"zcat {f2} | head -n 1 > {f2t}\", shell=True)\n",
    "    else:\n",
    "        subprocess.run(f\"head -n 1 {f1} > {f1t}\", shell=True)\n",
    "        subprocess.run(f\"head -n 1 {f2} > {f2t}\", shell=True)\n",
    "    \n",
    "#     time.sleep(5)\n",
    "    SE = \"SEtemp\"\n",
    "    with open(f1t,\"r\") as infile1, open(f2t,\"r\") as infile2:\n",
    "        for line1 in infile1:\n",
    "            for line2 in infile2:\n",
    "                if len(line1) < 4 or len(line2) < 4:\n",
    "                    print(\"No lines in file\")\n",
    "                line1 = line1.replace(\"/\",\" \").split()[0]\n",
    "                line2 = line2.replace(\"/\",\" \").split()[0]\n",
    "                if line1 == line2:\n",
    "                    SE = \"false\"\n",
    "                else:\n",
    "                    SE = \"true\"\n",
    "                if verbose:\n",
    "                    print(f'line1:{line1}\\n line2:{line2}\\n singleEnd:{SE}')\n",
    "#                 print(f'line1:{line1}\\n line2:{line2}\\n singleEnd:{SE}')\n",
    "                sys.stdout.flush()\n",
    "                sys.stdout.write(SE)\n",
    "                \n",
    "#     print(\"Done with python removing \", f1t, f2t)\n",
    "    os.remove(f1t), os.remove(f2t)\n",
    "\n",
    "\n",
    "\n",
    "        \n",
    "        \n",
    "\n"
   ]
  },
  {
   "cell_type": "code",
   "execution_count": 615,
   "metadata": {
    "ExecuteTime": {
     "end_time": "2019-07-17T19:12:30.455768Z",
     "start_time": "2019-07-17T19:12:30.355830Z"
    }
   },
   "outputs": [
    {
     "name": "stdout",
     "output_type": "stream",
     "text": [
      "****************************************\n",
      "Verbose is set to  True\n",
      "Checking first two files sorted by name to see if the read pairs match. If they do we assume paired end\n"
     ]
    }
   ],
   "source": [
    "# check_Paired(path=\"test/fastqs\", verbose=True)\n",
    "print(\"****************************************\")\n",
    "check_Paired(path=\"test/fastqsgz\", verbose=True, gzcat=False)"
   ]
  },
  {
   "cell_type": "code",
   "execution_count": 616,
   "metadata": {
    "ExecuteTime": {
     "end_time": "2019-07-17T19:12:30.501714Z",
     "start_time": "2019-07-17T19:12:30.458323Z"
    }
   },
   "outputs": [],
   "source": [
    "#export\n",
    "import argparse\n",
    "def parse_arguments():\n",
    "        parser = argparse.ArgumentParser(description='Checking Paired or not or if its zipped.')\n",
    "        parser.add_argument('--path', action= 'store', metavar='path') \n",
    "        parser.add_argument('--verbose', action= 'store', metavar='verbose', default= False) \n",
    "        args = parser.parse_args()\n",
    "        return args"
   ]
  },
  {
   "cell_type": "code",
   "execution_count": 617,
   "metadata": {
    "ExecuteTime": {
     "end_time": "2019-07-17T19:12:30.542839Z",
     "start_time": "2019-07-17T19:12:30.503813Z"
    }
   },
   "outputs": [
    {
     "name": "stderr",
     "output_type": "stream",
     "text": [
      "usage: ipykernel_launcher.py [-h] [--path path] [--verbose verbose]\n",
      "ipykernel_launcher.py: error: unrecognized arguments: -f /Users/M/Library/Jupyter/runtime/kernel-955622c7-4ac4-41d1-ba4f-d9ad9ab5c158.json\n"
     ]
    },
    {
     "ename": "SystemExit",
     "evalue": "2",
     "output_type": "error",
     "traceback": [
      "An exception has occurred, use %tb to see the full traceback.\n",
      "\u001b[0;31mSystemExit\u001b[0m\u001b[0;31m:\u001b[0m 2\n"
     ]
    }
   ],
   "source": [
    "#export\n",
    "#Ignore error, run this cell to get proper export of function\n",
    "#to python script\n",
    "if __name__==\"__main__\":\n",
    "    args = parse_arguments()\n",
    "    verbose = fix_bool(args.verbose)\n",
    "    check_Paired(path=args.path, verbose=verbose)\n",
    "        "
   ]
  },
  {
   "cell_type": "code",
   "execution_count": 618,
   "metadata": {
    "ExecuteTime": {
     "end_time": "2019-07-17T19:12:39.770187Z",
     "start_time": "2019-07-17T19:12:36.959843Z"
    }
   },
   "outputs": [
    {
     "name": "stdout",
     "output_type": "stream",
     "text": [
      "Converted 01CheckSingleEnd.ipynb to nb_01CheckSingleEnd.py\r\n"
     ]
    }
   ],
   "source": [
    "!python notebook2script.py 01CheckSingleEnd.ipynb"
   ]
  },
  {
   "cell_type": "code",
   "execution_count": null,
   "metadata": {},
   "outputs": [],
   "source": []
  },
  {
   "cell_type": "code",
   "execution_count": null,
   "metadata": {},
   "outputs": [],
   "source": []
  },
  {
   "cell_type": "code",
   "execution_count": null,
   "metadata": {},
   "outputs": [],
   "source": []
  }
 ],
 "metadata": {
  "kernelspec": {
   "display_name": "Python 3",
   "language": "python",
   "name": "python3"
  },
  "language_info": {
   "codemirror_mode": {
    "name": "ipython",
    "version": 3
   },
   "file_extension": ".py",
   "mimetype": "text/x-python",
   "name": "python",
   "nbconvert_exporter": "python",
   "pygments_lexer": "ipython3",
   "version": "3.7.3"
  },
  "toc": {
   "base_numbering": 1,
   "nav_menu": {},
   "number_sections": true,
   "sideBar": true,
   "skip_h1_title": false,
   "title_cell": "Table of Contents",
   "title_sidebar": "Contents",
   "toc_cell": false,
   "toc_position": {},
   "toc_section_display": true,
   "toc_window_display": false
  }
 },
 "nbformat": 4,
 "nbformat_minor": 2
}
