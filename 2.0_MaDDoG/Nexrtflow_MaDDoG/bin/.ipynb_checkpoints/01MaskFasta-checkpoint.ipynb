{
 "cells": [
  {
   "cell_type": "code",
   "execution_count": 26,
   "metadata": {
    "ExecuteTime": {
     "end_time": "2019-07-12T14:20:55.234316Z",
     "start_time": "2019-07-12T14:20:55.203909Z"
    }
   },
   "outputs": [
    {
     "name": "stdout",
     "output_type": "stream",
     "text": [
      "The autoreload extension is already loaded. To reload it, use:\n",
      "  %reload_ext autoreload\n"
     ]
    }
   ],
   "source": [
    "%load_ext autoreload\n",
    "%autoreload 2\n",
    "%matplotlib inline"
   ]
  },
  {
   "cell_type": "code",
   "execution_count": null,
   "metadata": {
    "ExecuteTime": {
     "end_time": "2019-07-12T14:07:56.347109Z",
     "start_time": "2019-07-12T14:07:56.030927Z"
    }
   },
   "outputs": [],
   "source": [
    "\n"
   ]
  },
  {
   "cell_type": "code",
   "execution_count": 27,
   "metadata": {
    "ExecuteTime": {
     "end_time": "2019-07-12T14:20:55.692113Z",
     "start_time": "2019-07-12T14:20:55.662372Z"
    }
   },
   "outputs": [],
   "source": [
    "#export\n",
    "from nb_00 import *\n",
    "import argparse\n",
    "def parse_arguments():\n",
    "        parser = argparse.ArgumentParser(description='Masking AT and CG.')\n",
    "        parser.add_argument('--fasta', action= 'store', metavar='fasta') \n",
    "        parser.add_argument('--out', action= 'store', metavar='out',default=\"\")\n",
    "        parser.add_argument('--buildindex', action= 'store', metavar='buildindex', default= True) \n",
    "        parser.add_argument('--verbose', action= 'store', metavar='verbose', default= True) \n",
    "        args = parser.parse_args()\n",
    "        return args"
   ]
  },
  {
   "cell_type": "code",
   "execution_count": null,
   "metadata": {
    "ExecuteTime": {
     "end_time": "2019-07-11T20:37:11.330692Z",
     "start_time": "2019-07-11T20:37:11.296875Z"
    }
   },
   "outputs": [],
   "source": []
  },
  {
   "cell_type": "code",
   "execution_count": 28,
   "metadata": {
    "ExecuteTime": {
     "end_time": "2019-07-12T14:20:56.170788Z",
     "start_time": "2019-07-12T14:20:56.142556Z"
    }
   },
   "outputs": [],
   "source": [
    "test_eq(TEST,'test') # Gives error"
   ]
  },
  {
   "cell_type": "code",
   "execution_count": 29,
   "metadata": {
    "ExecuteTime": {
     "end_time": "2019-07-12T14:20:56.773593Z",
     "start_time": "2019-07-12T14:20:56.746651Z"
    }
   },
   "outputs": [],
   "source": [
    "# To run tests in console\n",
    "# ! python run_notebook.py 01_FileReaders.ipynb"
   ]
  },
  {
   "cell_type": "code",
   "execution_count": 30,
   "metadata": {
    "ExecuteTime": {
     "end_time": "2019-07-12T14:20:57.331758Z",
     "start_time": "2019-07-12T14:20:57.302823Z"
    }
   },
   "outputs": [
    {
     "data": {
      "text/plain": [
       "<bound method Path.absolute of PosixPath('test/test.fa')>"
      ]
     },
     "execution_count": 30,
     "metadata": {},
     "output_type": "execute_result"
    }
   ],
   "source": [
    "fa = \"test/test.fa\"\n",
    "fa_path = Path(fa)\n",
    "fa_path.stem\n",
    "fa_path.suffix\n",
    "fa_path.absolute"
   ]
  },
  {
   "cell_type": "code",
   "execution_count": 31,
   "metadata": {
    "ExecuteTime": {
     "end_time": "2019-07-12T14:20:57.784456Z",
     "start_time": "2019-07-12T14:20:57.752294Z"
    }
   },
   "outputs": [],
   "source": [
    "fa_path = Path(fa)"
   ]
  },
  {
   "cell_type": "code",
   "execution_count": null,
   "metadata": {
    "ExecuteTime": {
     "end_time": "2019-07-12T14:20:49.129189Z",
     "start_time": "2019-07-12T14:20:49.098439Z"
    }
   },
   "outputs": [],
   "source": []
  },
  {
   "cell_type": "markdown",
   "metadata": {},
   "source": [
    "## Fasta Parsing and indexing"
   ]
  },
  {
   "cell_type": "code",
   "execution_count": 32,
   "metadata": {
    "ExecuteTime": {
     "end_time": "2019-07-12T14:20:58.915426Z",
     "start_time": "2019-07-12T14:20:58.875008Z"
    },
    "code_folding": []
   },
   "outputs": [],
   "source": [
    "#export\n",
    "def indexBBmap(f, out):\n",
    "    bb_cmd = f'ref={f} path={out}'\n",
    "    print(f\"moving indexes to {out}\")\n",
    "    subprocess.run(f\"bbmap.sh {bb_cmd}\", shell=True)\n",
    "#     !bbmap.sh {bb_cmd}\n",
    "    \n",
    "def maskAGTC(f,out,buildindex=True,verbose=None):\n",
    "    f=Path(f)\n",
    "    makeFolders([out])\n",
    "    f_AG = f'{out}{f.stem}_AG.fa'\n",
    "    f_TC = f'{out}{f.stem}_TC.fa'    \n",
    "    start = timer()\n",
    "    with open(f,\"r\") as infile, open(f_AG,\"w\") as ag_out, open(f_TC,\"w\") as tc_out:\n",
    "        for line in infile:\n",
    "            if \">\" in line:\n",
    "                if verbose!=None:\n",
    "                    print(f'working on: {line}')\n",
    "                ag_out.write(line)\n",
    "                tc_out.write(line)\n",
    "            else:\n",
    "                ag_out.write(line.replace('A','G').replace('a','g'))\n",
    "                tc_out.write(line.replace('T','C').replace('t','c'))    \n",
    "    end = timer()\n",
    "    t = end - start\n",
    "    if verbose != None:\n",
    "        print(f'Masking fasta for {f.name} took : {t} seconds')\n",
    "    \n",
    "# Test fasta from   \n",
    "# yooo\n",
    "  "
   ]
  },
  {
   "cell_type": "code",
   "execution_count": 33,
   "metadata": {
    "ExecuteTime": {
     "end_time": "2019-07-12T14:20:59.546766Z",
     "start_time": "2019-07-12T14:20:59.514489Z"
    }
   },
   "outputs": [
    {
     "name": "stdout",
     "output_type": "stream",
     "text": [
      "working on: >HSBGPG Human gene for bone gla protein (BGP)\n",
      "\n",
      "Masking fasta for test.fa took : 0.0018383170000220161 seconds\n"
     ]
    }
   ],
   "source": [
    "maskAGTC(\"test/test.fa\",\"test/out/\",verbose=True)      \n",
    "# maskAGTC(\"c_elegans.PRJNA13758.WS258.genomic.fa\",\"test/out/\",verbose=True) "
   ]
  },
  {
   "cell_type": "markdown",
   "metadata": {},
   "source": [
    "## Fastq parsing"
   ]
  },
  {
   "cell_type": "code",
   "execution_count": 34,
   "metadata": {
    "ExecuteTime": {
     "end_time": "2019-07-12T14:21:00.217899Z",
     "start_time": "2019-07-12T14:21:00.186311Z"
    },
    "code_folding": [
     1,
     5
    ]
   },
   "outputs": [],
   "source": [
    "#export\n",
    "def FQ_dic(lines):\n",
    "    ks = ['name', 'sequence', 'optional', 'quality']\n",
    "    return {ks[idx]:val for idx, val in enumerate(lines)}\n",
    "\n",
    "def readFQ(f, out, verbose=None):\n",
    "    fo = f'{out}/{f.stem}_.fq'\n",
    "    start = timer()\n",
    "    n = 4\n",
    "    with open(f, 'r') as fh, open(fo,\"w\"):\n",
    "        lines = []\n",
    "        for line in fh:\n",
    "            lines.append(line.rstrip())\n",
    "            if len(lines) == n:\n",
    "                d = FQ_dic(lines)\n",
    "                name = d['name']\n",
    "                seq = d[\"sequence\"]\n",
    "                optional = d[\"optional\"]\n",
    "                qual = d['quality']\n",
    "                q = filterFQ(qual)\n",
    "#                 print(f\"qual:{qual} q:{q}\")\n",
    "                print(f\"{name}\")\n",
    "                lines = []\n",
    "                \n",
    "    end = timer()\n",
    "    t = end - start\n",
    "    if verbose != None:\n",
    "        print(f'Done processing fq {f.name} took : {t} seconds')    \n",
    "        \n",
    "# https://www.biostars.org/p/317524/ for code to parse fq files\n",
    "# readFQ(f=Path(\"test/test1.fastq\"), out=\"test/out\", verbose=True)    \n",
    "# readFQ(f=Path(\"test/test2.fastq\"), out=\"test/out\", verbose=True)   \n",
    "# readFQ(f=Path(\"test/paeruginosa-reads/SRR396636.sra_1.fastq\"), out=\"test/out\", verbose=True)  \n",
    "#\"if __name__ == '__main__': fire.Fire(01_FileReaders)\"\n",
    "\n"
   ]
  },
  {
   "cell_type": "code",
   "execution_count": 38,
   "metadata": {
    "ExecuteTime": {
     "end_time": "2019-07-12T14:21:07.799541Z",
     "start_time": "2019-07-12T14:21:07.769460Z"
    }
   },
   "outputs": [
    {
     "name": "stderr",
     "output_type": "stream",
     "text": [
      "usage: ipykernel_launcher.py [-h] [--fasta fasta] [--out out]\n",
      "                             [--buildindex buildindex] [--verbose verbose]\n",
      "ipykernel_launcher.py: error: unrecognized arguments: -f /Users/M/Library/Jupyter/runtime/kernel-af925ee6-870c-4071-975c-b5f6ec98ef0d.json\n"
     ]
    },
    {
     "ename": "SystemExit",
     "evalue": "2",
     "output_type": "error",
     "traceback": [
      "An exception has occurred, use %tb to see the full traceback.\n",
      "\u001b[0;31mSystemExit\u001b[0m\u001b[0;31m:\u001b[0m 2\n"
     ]
    }
   ],
   "source": [
    "#export\n",
    "#Ignore error, run this cell to get proper export of function\n",
    "#to python script\n",
    "if __name__==\"__main__\":\n",
    "    args = parse_arguments()\n",
    "    maskAGTC(f=args.fasta,out=args.out,\\\n",
    "             buildindex=args.buildindex,\\\n",
    "             verbose=args.verbose)"
   ]
  },
  {
   "cell_type": "code",
   "execution_count": 39,
   "metadata": {
    "ExecuteTime": {
     "end_time": "2019-07-12T14:21:08.439729Z",
     "start_time": "2019-07-12T14:21:08.012084Z"
    }
   },
   "outputs": [
    {
     "name": "stdout",
     "output_type": "stream",
     "text": [
      "Converted 01MaskFasta.ipynb to nb_01MaskFasta.py\r\n"
     ]
    }
   ],
   "source": [
    "!python notebook2script.py 01MaskFasta.ipynb"
   ]
  },
  {
   "cell_type": "code",
   "execution_count": 37,
   "metadata": {
    "ExecuteTime": {
     "end_time": "2019-07-12T14:21:01.729724Z",
     "start_time": "2019-07-12T14:21:01.700578Z"
    }
   },
   "outputs": [],
   "source": [
    "#qiagen fastq data https://www.qiagenbioinformatics.com/support/example-data/                \n",
    "# !wget http://resources.qiagenbioinformatics.com/testdata/paeruginosa-reads.zip\n",
    "# !unzip paeruginosa-reads.zip \n",
    "# !mv paeruginosa-reads/SRR396637.sra_1.fastq paeruginosa-reads/FR_1.fastq\n",
    "# !mv paeruginosa-reads/SRR396637.sra_2.fastq paeruginosa-reads/FR_2.fastq\n",
    "# !mv paeruginosa-reads/SRR396636.sra_1.fastq paeruginosa-reads/RF_1.fastq\n",
    "# !mv paeruginosa-reads/SRR396636.sra_2.fastq paeruginosa-reads/RF_2.fastq\n",
    "# !mv paeruginosa-reads test\n",
    "\n",
    "#SRR396637.sra_1.fastq and SRR396637.sra_2.fastq – paird end (FR) sequence reads. A distance range 150 to 350 is reasonable\n",
    "#SRR396636.sra_1.fastq and SRR396636.sra_2.fastq – mate pair (RF) sequence reads. A distance range 2000 to 3800 is reasonable"
   ]
  },
  {
   "cell_type": "code",
   "execution_count": null,
   "metadata": {
    "ExecuteTime": {
     "end_time": "2019-07-12T14:16:41.492506Z",
     "start_time": "2019-07-12T14:16:40.500Z"
    }
   },
   "outputs": [],
   "source": [
    "\n",
    "# Download transcript fastas to use with salmon\n",
    "# !wget ftp://ftp.ebi.ac.uk/pub/databases/gencode/Gencode_human/release_30/gencode.v30.transcripts.fa.gz #human\n",
    "# !wget ftp://ftp.ebi.ac.uk/pub/databases/gencode/Gencode_mouse/release_M22/gencode.vM22.transcripts.fa.gz #mouse\n",
    "# !mv gencode.v30.transcripts.fa.gz resources\n",
    "\n",
    "\n",
    "# Download test fastqs and put in test folder\n",
    "#Test fastq's\n",
    "# !wget ftp://ftp.1000genomes.ebi.ac.uk/vol1/ftp/phase3/data/HG00096/sequence_read/SRR062634_2.filt.fastq.gz\n",
    "# !wget ftp://ftp.1000genomes.ebi.ac.uk/vol1/ftp/phase3/data/HG00096/sequence_read/SRR062634_1.filt.fastq.gz\n",
    "# !mv SRR062634_1.filt.fastq.gz test\n",
    "# !mv SRR062634_2.filt.fastq.gz test"
   ]
  },
  {
   "cell_type": "markdown",
   "metadata": {},
   "source": [
    "## Unused functions"
   ]
  },
  {
   "cell_type": "code",
   "execution_count": null,
   "metadata": {
    "ExecuteTime": {
     "end_time": "2019-07-12T14:16:41.494764Z",
     "start_time": "2019-07-12T14:16:40.502Z"
    },
    "code_folding": [
     3,
     11
    ]
   },
   "outputs": [],
   "source": [
    "#Automatic strand detection\n",
    "#conda install -c bioconda salmon\n",
    "def buildSalmonIndex(fa):\n",
    "    index = \"_\".join(fa.split(\".\")[:3])+\"_idx\"\n",
    "    salmon_cmd = f'--gencode -t {f_fa} -i {index}'\n",
    "    !salmon index {salmon_cmd}\n",
    "    return index\n",
    "    \n",
    "# index = buildSalmonIndex(fa=\"resources/gencode.v30.transcripts.fa.gz\")\n",
    "\n",
    "def quantSalmon(fa,fq1,fq2,out,paired=True):\n",
    "    makeFolders([out])\n",
    "    index = \"_\".join(fa.split(\".\")[:3])+\"_idx\"\n",
    "    lines_to_write = 'NR==200'\n",
    "    if paired:\n",
    "        print(\"paired\")\n",
    "    else:\n",
    "        if fq1.suffix==\".gz\":\n",
    "            print(\"unzipping fastq\")\n",
    "            print(fq1)\n",
    "            #### . cmd = f'gzcat {fq2} | head -n {lines_to_write} > {out}/Small_{fq1.stem}'\n",
    "            \n",
    "            \n",
    "            cmd = f'gzcat {fq1} | awk {lines_to_write} > {out}/Small'\n",
    "            !{cmd}\n",
    "            print(f\"done writing out {lines_to_write} lines\")\n",
    "#         else:\n",
    "#             cmd = f'head -2000000 > {out}/Small_{fq1.stem}'\n",
    "#             !{cmd}\n",
    "\n",
    "            {out}/Small_{fq1.stem}\n",
    "# #         salmon_cmd = f'-i {index} -l A -r {fq1} --validateMappings -o {out}'\n",
    "# #         !salmon quant {salmon_cmd} \n",
    "  \n",
    "quantSalmon(paired=False,fa=\"resources/gencode.v30.transcripts.fa.gz\",fq1=Path(\"test/SRR062634_1.filt.fastq.gz\"),\\\n",
    "            fq2=Path(\"test/SRR062634_2.filt.fastq.gz\"),out=\"test/out/salmon\")\n"
   ]
  },
  {
   "cell_type": "code",
   "execution_count": null,
   "metadata": {
    "ExecuteTime": {
     "end_time": "2019-07-12T14:16:41.496831Z",
     "start_time": "2019-07-12T14:16:40.504Z"
    }
   },
   "outputs": [],
   "source": [
    "#Trim fastq\n",
    "#conda install -c bioconda bbmap\n",
    "#Download adapters from https://github.com/BioInfoTools/BBMap/tree/master/resources/adapters.fa\n",
    "from exp.nb_00 import *\n",
    "def trimAdapters(fq1,fq2,out,paired=True, adapters=\"resources/adapters.fa\",verbose=False):\n",
    "    start = timer()\n",
    "    if paired==True:\n",
    "        bbduk_cmd =  f'in1={fq1} in2={fq2} out1={out}/{fq1.stem}_trim1.fq out2={out}/{fq2.stem}_trim2.fq \\\n",
    "        minlen=25 qtrim=rl trimq=10 ktrim=r k=23 mink=11 ref={adapters} hdist=1 tpe tbo'\n",
    "    if paired==False:\n",
    "        bbduk_cmd = f'in={fq1} out={out}/{fq1.stem}_trim1.fq \\\n",
    "        minlen=25 qtrim=rl trimq=10 ktrim=r k=23 mink=11 ref={adapters} hdist=1 tpe tbo'\n",
    "    !bash bbduk.sh {bbduk_cmd}\n",
    "    end = timer()\n",
    "    t = end - start\n",
    "    if verbose != None:\n",
    "        print(f'Trimming files {fq1.name} took : {t} seconds')\n",
    "\n",
    "trimAdapters(paired=True,fq1=Path(\"test/paeruginosa-reads/FR_1.fastq\"),fq2=Path(\"test/paeruginosa-reads/FR_2.fastq\"),out=\"test/out\")\\"
   ]
  },
  {
   "cell_type": "code",
   "execution_count": null,
   "metadata": {
    "ExecuteTime": {
     "end_time": "2019-07-06T21:23:32.885746Z",
     "start_time": "2019-07-06T21:23:32.075488Z"
    }
   },
   "outputs": [],
   "source": [
    "\n"
   ]
  },
  {
   "cell_type": "code",
   "execution_count": null,
   "metadata": {
    "ExecuteTime": {
     "end_time": "2019-07-06T19:42:33.762479Z",
     "start_time": "2019-07-06T19:42:33.520930Z"
    }
   },
   "outputs": [],
   "source": []
  },
  {
   "cell_type": "code",
   "execution_count": null,
   "metadata": {},
   "outputs": [],
   "source": []
  }
 ],
 "metadata": {
  "kernelspec": {
   "display_name": "Python 3",
   "language": "python",
   "name": "python3"
  },
  "language_info": {
   "codemirror_mode": {
    "name": "ipython",
    "version": 3
   },
   "file_extension": ".py",
   "mimetype": "text/x-python",
   "name": "python",
   "nbconvert_exporter": "python",
   "pygments_lexer": "ipython3",
   "version": "3.7.3"
  },
  "toc": {
   "base_numbering": 1,
   "nav_menu": {},
   "number_sections": true,
   "sideBar": true,
   "skip_h1_title": false,
   "title_cell": "Table of Contents",
   "title_sidebar": "Contents",
   "toc_cell": false,
   "toc_position": {},
   "toc_section_display": true,
   "toc_window_display": false
  }
 },
 "nbformat": 4,
 "nbformat_minor": 1
}
