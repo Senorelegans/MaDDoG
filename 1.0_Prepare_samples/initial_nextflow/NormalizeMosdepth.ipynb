{
 "cells": [
  {
   "cell_type": "code",
   "execution_count": 7,
   "metadata": {
    "ExecuteTime": {
     "end_time": "2021-03-10T01:14:04.169538Z",
     "start_time": "2021-03-10T01:14:04.167219Z"
    }
   },
   "outputs": [],
   "source": [
    "import pandas as pd\n",
    "import glob\n",
    "import os"
   ]
  },
  {
   "cell_type": "code",
   "execution_count": 8,
   "metadata": {
    "ExecuteTime": {
     "end_time": "2021-03-10T01:14:04.519762Z",
     "start_time": "2021-03-10T01:14:04.516825Z"
    }
   },
   "outputs": [],
   "source": [
    "#export\n",
    "def makeFolders(folder_list):\n",
    "    for directory in folder_list:\n",
    "        if not directory: # Make sure not an empty string \"\"\n",
    "            continue\n",
    "        else:\n",
    "            if not os.path.exists(directory):\n",
    "                os.makedirs(directory)                                \n"
   ]
  },
  {
   "cell_type": "code",
   "execution_count": 13,
   "metadata": {
    "ExecuteTime": {
     "end_time": "2021-03-10T01:16:05.695355Z",
     "start_time": "2021-03-10T01:16:05.400519Z"
    }
   },
   "outputs": [
    {
     "data": {
      "text/html": [
       "<div>\n",
       "<style scoped>\n",
       "    .dataframe tbody tr th:only-of-type {\n",
       "        vertical-align: middle;\n",
       "    }\n",
       "\n",
       "    .dataframe tbody tr th {\n",
       "        vertical-align: top;\n",
       "    }\n",
       "\n",
       "    .dataframe thead th {\n",
       "        text-align: right;\n",
       "    }\n",
       "</style>\n",
       "<table border=\"1\" class=\"dataframe\">\n",
       "  <thead>\n",
       "    <tr style=\"text-align: right;\">\n",
       "      <th></th>\n",
       "      <th>sample</th>\n",
       "      <th>condition</th>\n",
       "      <th>mapped_reads</th>\n",
       "      <th>minimum</th>\n",
       "      <th>LibraryRatio</th>\n",
       "      <th>normalized</th>\n",
       "    </tr>\n",
       "  </thead>\n",
       "  <tbody>\n",
       "    <tr>\n",
       "      <th>0</th>\n",
       "      <td>CTL2</td>\n",
       "      <td>C</td>\n",
       "      <td>76871547</td>\n",
       "      <td>76871547</td>\n",
       "      <td>1.000000</td>\n",
       "      <td>76871547.0</td>\n",
       "    </tr>\n",
       "    <tr>\n",
       "      <th>1</th>\n",
       "      <td>KCL2</td>\n",
       "      <td>T</td>\n",
       "      <td>89390920</td>\n",
       "      <td>76871547</td>\n",
       "      <td>1.162861</td>\n",
       "      <td>76871547.0</td>\n",
       "    </tr>\n",
       "    <tr>\n",
       "      <th>2</th>\n",
       "      <td>KCL3</td>\n",
       "      <td>T</td>\n",
       "      <td>125935282</td>\n",
       "      <td>76871547</td>\n",
       "      <td>1.638256</td>\n",
       "      <td>76871547.0</td>\n",
       "    </tr>\n",
       "    <tr>\n",
       "      <th>3</th>\n",
       "      <td>CTL3</td>\n",
       "      <td>C</td>\n",
       "      <td>99855029</td>\n",
       "      <td>76871547</td>\n",
       "      <td>1.298986</td>\n",
       "      <td>76871547.0</td>\n",
       "    </tr>\n",
       "    <tr>\n",
       "      <th>4</th>\n",
       "      <td>CTL1</td>\n",
       "      <td>C</td>\n",
       "      <td>107426818</td>\n",
       "      <td>76871547</td>\n",
       "      <td>1.397485</td>\n",
       "      <td>76871547.0</td>\n",
       "    </tr>\n",
       "    <tr>\n",
       "      <th>5</th>\n",
       "      <td>KCL1</td>\n",
       "      <td>T</td>\n",
       "      <td>90596764</td>\n",
       "      <td>76871547</td>\n",
       "      <td>1.178547</td>\n",
       "      <td>76871547.0</td>\n",
       "    </tr>\n",
       "  </tbody>\n",
       "</table>\n",
       "</div>"
      ],
      "text/plain": [
       "  sample condition  mapped_reads   minimum  LibraryRatio  normalized\n",
       "0   CTL2         C      76871547  76871547      1.000000  76871547.0\n",
       "1   KCL2         T      89390920  76871547      1.162861  76871547.0\n",
       "2   KCL3         T     125935282  76871547      1.638256  76871547.0\n",
       "3   CTL3         C      99855029  76871547      1.298986  76871547.0\n",
       "4   CTL1         C     107426818  76871547      1.397485  76871547.0\n",
       "5   KCL1         T      90596764  76871547      1.178547  76871547.0"
      ]
     },
     "execution_count": 13,
     "metadata": {},
     "output_type": "execute_result"
    }
   ],
   "source": [
    "\n",
    "\n",
    "# datapath = \"../data/WGS/Vilborg2015/wgs_stranded\"\n",
    "# outpath = \"../data/WGS/Vilborg2015/wgs_stranded/normalized\"\n",
    "# makeFolders([outpath])\n",
    "# vilborg bowtie2\n",
    "f1 = \"../data/WGS/Vilborg2015/Vilborg_LibrarySizes.tsv\"\n",
    "datapath = \"../data/WGS/Vilborg2015/wgs_stranded_bowtie2\"\n",
    "outpath = f\"{datapath}/normalized\"\n",
    "\n",
    "# NINA DOGS\n",
    "# datapath = \"/Users/m/Google_Drive/Scripts/2020/Dogcatcher2/data/WGS/NINA_DOGS/proseq\"\n",
    "# outpath = f\"{datapath}/normalized\"\n",
    "# f1 = f\"{datapath}/mapstats/WT_CTL_AS_LibrarySizes.tsv\"\n",
    "\n",
    "\n",
    "\n",
    "\n",
    "makeFolders([outpath])\n",
    "df = pd.read_csv(f1,sep=\"\\t\")\n",
    "df[\"minimum\"] = df[\"mapped_reads\"].min()\n",
    "df[\"LibraryRatio\"] = df[\"mapped_reads\"] / df[\"minimum\"]\n",
    "df[\"normalized\"] = df[\"mapped_reads\"] / df[\"LibraryRatio\"]\n",
    "df"
   ]
  },
  {
   "cell_type": "code",
   "execution_count": 14,
   "metadata": {
    "ExecuteTime": {
     "end_time": "2021-03-10T01:16:13.535314Z",
     "start_time": "2021-03-10T01:16:13.533539Z"
    }
   },
   "outputs": [],
   "source": [
    "# df_data = pd.read_csv(f\"{datapath}/{f1}\",sep=\"\\t\",names=[\"chrom\",\"start\",\"stop\",\"count\"],\n",
    "#                       dtype={\"chrom\":str,\"start\":float,\"stop\":float,\"count\":float})\n",
    "# df_data.head"
   ]
  },
  {
   "cell_type": "code",
   "execution_count": 15,
   "metadata": {
    "ExecuteTime": {
     "end_time": "2021-03-10T01:30:47.441474Z",
     "start_time": "2021-03-10T01:16:22.753710Z"
    }
   },
   "outputs": [
    {
     "name": "stdout",
     "output_type": "stream",
     "text": [
      "Working on ../data/WGS/Vilborg2015/wgs_stranded_bowtie2/CTL2_plu.wgs.regions.bed\n",
      "Working on ../data/WGS/Vilborg2015/wgs_stranded_bowtie2/CTL3_plu.wgs.regions.bed\n",
      "Working on ../data/WGS/Vilborg2015/wgs_stranded_bowtie2/CTL1_plu.wgs.regions.bed\n",
      "Writing out ../data/WGS/Vilborg2015/wgs_stranded_bowtie2/normalized/C_plu.bed\n",
      "Working on ../data/WGS/Vilborg2015/wgs_stranded_bowtie2/KCL2_plu.wgs.regions.bed\n",
      "Working on ../data/WGS/Vilborg2015/wgs_stranded_bowtie2/KCL3_plu.wgs.regions.bed\n",
      "Working on ../data/WGS/Vilborg2015/wgs_stranded_bowtie2/KCL1_plu.wgs.regions.bed\n",
      "Writing out ../data/WGS/Vilborg2015/wgs_stranded_bowtie2/normalized/T_plu.bed\n",
      "Working on ../data/WGS/Vilborg2015/wgs_stranded_bowtie2/CTL2_min.wgs.regions.bed\n",
      "Working on ../data/WGS/Vilborg2015/wgs_stranded_bowtie2/CTL3_min.wgs.regions.bed\n",
      "Working on ../data/WGS/Vilborg2015/wgs_stranded_bowtie2/CTL1_min.wgs.regions.bed\n",
      "Writing out ../data/WGS/Vilborg2015/wgs_stranded_bowtie2/normalized/C_min.bed\n",
      "Working on ../data/WGS/Vilborg2015/wgs_stranded_bowtie2/KCL2_min.wgs.regions.bed\n",
      "Working on ../data/WGS/Vilborg2015/wgs_stranded_bowtie2/KCL3_min.wgs.regions.bed\n",
      "Working on ../data/WGS/Vilborg2015/wgs_stranded_bowtie2/KCL1_min.wgs.regions.bed\n",
      "Writing out ../data/WGS/Vilborg2015/wgs_stranded_bowtie2/normalized/T_min.bed\n"
     ]
    }
   ],
   "source": [
    "for strand in [\"plu\",\"min\"]:\n",
    "    for condition in df[\"condition\"].unique():\n",
    "        df_condition = df[df[\"condition\"]==condition]\n",
    "        num_in_conditions = len(df_condition)\n",
    "        # Get first sample to make dataframe\n",
    "        sample = df_condition[\"sample\"].iloc[0]    \n",
    "        f = glob.glob(f\"{datapath}/{sample}_{strand}.wgs.regions.bed\")[0]        \n",
    "        df_final = pd.read_csv(f,sep=\"\\t\",names=[\"chrom\",\"start\",\"stop\",\"count\"],\n",
    "        dtype={\"chrom\":str,\"start\":float,\"stop\":float,\"count\":float})\n",
    "        del df_final[\"count\"]\n",
    "        for row in range(len(df_condition)):\n",
    "            sample = df_condition[\"sample\"].iloc[row]\n",
    "            LibraryRatio = df_condition[\"LibraryRatio\"].iloc[row]\n",
    "            f = glob.glob(f\"{datapath}/{sample}_{strand}.wgs.regions.bed\")[0]\n",
    "            print(f\"Working on {f}\")\n",
    "            df_data = pd.read_csv(f,sep=\"\\t\",names=[\"chrom\",\"start\",\"stop\",\"count\"],\n",
    "                      dtype={\"chrom\":str,\"start\":float,\"stop\":float,\"count\":float})\n",
    "            df_final[f\"normalized_{row}\"] = df_data[\"count\"] / LibraryRatio\n",
    "        # Now average all samples    \n",
    "        norm_list = matching = [s for s in list(df_final) if \"normalized\" in s]\n",
    "        df_final[\"average\"] = df_final[norm_list].sum(axis=1) / num_in_conditions\n",
    "        df_final[\"start\"] = df_final[\"start\"].astype(int)\n",
    "        df_final[\"stop\"] = df_final[\"stop\"].astype(int)\n",
    "        df_final = df_final[[\"chrom\",\"start\",\"stop\",\"average\"]]\n",
    "        fout = f\"{outpath}/{condition}_{strand}.bed\"\n",
    "        print(f\"Writing out {fout}\")\n",
    "        df_final.to_csv(fout,sep=\"\\t\",header=None,index=None)"
   ]
  },
  {
   "cell_type": "code",
   "execution_count": null,
   "metadata": {
    "ExecuteTime": {
     "end_time": "2021-02-14T23:52:53.206412Z",
     "start_time": "2021-02-14T23:52:33.099Z"
    }
   },
   "outputs": [],
   "source": [
    "# df_final.head()"
   ]
  },
  {
   "cell_type": "code",
   "execution_count": null,
   "metadata": {},
   "outputs": [],
   "source": []
  }
 ],
 "metadata": {
  "kernelspec": {
   "display_name": "Python 3.7.3 64-bit ('base': conda)",
   "language": "python",
   "name": "python37364bitbaseconda0de061abd4714097a7600de263e3e0c4"
  },
  "language_info": {
   "codemirror_mode": {
    "name": "ipython",
    "version": 3
   },
   "file_extension": ".py",
   "mimetype": "text/x-python",
   "name": "python",
   "nbconvert_exporter": "python",
   "pygments_lexer": "ipython3",
   "version": "3.7.3"
  }
 },
 "nbformat": 4,
 "nbformat_minor": 4
}