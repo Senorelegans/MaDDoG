{
 "cells": [
  {
   "cell_type": "code",
   "execution_count": 137,
   "metadata": {
    "ExecuteTime": {
     "end_time": "2019-08-15T14:28:16.319275Z",
     "start_time": "2019-08-15T14:28:16.304067Z"
    }
   },
   "outputs": [],
   "source": [
    "%matplotlib inline\n",
    "\n",
    "\n",
    "import numpy as np\n",
    "import matplotlib.pyplot as plt\n",
    "import os\n",
    "import pandas as pd\n",
    "import requests, json\n",
    "import subprocess"
   ]
  },
  {
   "cell_type": "code",
   "execution_count": 138,
   "metadata": {
    "ExecuteTime": {
     "end_time": "2019-08-15T14:28:17.144216Z",
     "start_time": "2019-08-15T14:28:17.141672Z"
    }
   },
   "outputs": [],
   "source": [
    "#export\n",
    "from nb_00 import *"
   ]
  },
  {
   "cell_type": "markdown",
   "metadata": {},
   "source": [
    "### Download Hepg2 and K562 eclip and shRNA\n",
    "\n",
    "Select appropriate filters at https://www.encodeproject.org/search/?type=Experiment&status=released&biosample_ontology.term_name=HepG2&assay_title=shRNA+RNA-seq&assay_title=eCLIP&biosample_ontology.term_name=K562\n",
    "\n",
    "hit download. and grab this as first line from download file\n",
    "\n",
    "https://www.encodeproject.org/metadata/type%3DExperiment%26status%3Dreleased%26biosample_ontology.term_name%3DHepG2%26assay_title%3DshRNA%2BRNA-seq%26assay_title%3DeCLIP%26biosample_ontology.term_name%3DK562/metadata.tsv"
   ]
  },
  {
   "cell_type": "code",
   "execution_count": 43,
   "metadata": {
    "ExecuteTime": {
     "end_time": "2019-08-12T16:26:46.108532Z",
     "start_time": "2019-08-12T16:26:19.641467Z"
    }
   },
   "outputs": [
    {
     "name": "stdout",
     "output_type": "stream",
     "text": [
      "--2019-08-12 10:26:20--  https://www.encodeproject.org/metadata/type%3DExperiment%26status%3Dreleased%26biosample_ontology.term_name%3DHepG2%26assay_title%3DshRNA%2BRNA-seq%26assay_title%3DeCLIP%26biosample_ontology.term_name%3DK562/metadata.tsv\n",
      "Resolving www.encodeproject.org (www.encodeproject.org)... 34.211.244.144\n",
      "Connecting to www.encodeproject.org (www.encodeproject.org)|34.211.244.144|:443... connected.\n",
      "HTTP request sent, awaiting response... 200 OK\n",
      "Length: 29207224 (28M) [text/tsv]\n",
      "Saving to: ‘metadata.tsv’\n",
      "\n",
      "metadata.tsv        100%[===================>]  27.85M  1.72MB/s    in 17s     \n",
      "\n",
      "2019-08-12 10:26:45 (1.59 MB/s) - ‘metadata.tsv’ saved [29207224/29207224]\n",
      "\n"
     ]
    }
   ],
   "source": [
    "# Once you have the first line put behind !wget\n",
    "\n",
    "!wget https://www.encodeproject.org/metadata/type%3DExperiment%26status%3Dreleased%26biosample_ontology.term_name%3DHepG2%26assay_title%3DshRNA%2BRNA-seq%26assay_title%3DeCLIP%26biosample_ontology.term_name%3DK562/metadata.tsv\n",
    "makeFolders([\"../samples_metadata\"])\n",
    "os.rename(\"metadata.tsv\",\"../samples_metadata/metadata_K62_HEP_shRNA_eclip.tsv\")    "
   ]
  },
  {
   "cell_type": "code",
   "execution_count": 179,
   "metadata": {
    "ExecuteTime": {
     "end_time": "2019-08-15T16:56:06.017232Z",
     "start_time": "2019-08-15T16:56:05.017230Z"
    }
   },
   "outputs": [],
   "source": [
    "f1 = \"../samples_metadata/metadata_K62_HEP_shRNA_eclip.tsv\"\n",
    "df = pd.read_csv(f1, sep=\"\\t\")\n",
    "df = df[df[\"File format\"]==\"fastq\"]\n",
    "for col in list(df):\n",
    "    if df[col].isnull().all(): # Remove nan columns\n",
    "        del df[col]\n",
    "\n",
    "df = df.rename(columns={\"Assay\": \"assay\", \n",
    "                   \"Experiment target\": \"target\",\n",
    "                   'Library made from':\"library\",\n",
    "                   \"Biosample term name\":\"sample\",\n",
    "                   \"Biosample organism\":\"organism\",\n",
    "                   \"dbxrefs\":\"sra\",\n",
    "                   \"File download URL\":\"url\",\n",
    "                    \"File accession\":\"accession\"\n",
    "                  })        \n",
    "        \n",
    "# df[\"Biosample genetic modifications methods\"] = df[\"Biosample genetic modifications targets\"] \\\n",
    "#     .replace(\"/targets/Non-specific%20target%20\",\"\")\\\n",
    "#     .replace(\"/targets/\",\"\")\\\n",
    "#     .replace(\"-human\",\"\")        \n",
    "\n",
    "df[\"assay\"] = df[\"assay\"].str.replace(\" knockdown followed by RNA-seq\",\"\")\n",
    "df[\"target\"] = df[\"target\"].str.replace(\"-human\",\"\").replace(\"Non-specific target control\",\"Control\")\n",
    "        \n",
    "df[\"sra\"] = df[\"sra\"].str.replace(\"SRA:\",\"\")    \n",
    "df['library'] = df['library'].str.replace(\"polyadenylated mRNA\",\"POLYA\").str.replace(\"RNA\",\"TOTAL\")    \n",
    "df[\"Paired end\"] = df[\"Paired end\"].astype(int).astype(str)\n",
    "   \n",
    "df[\"condition\"] = df[\"target\"]\\\n",
    "            +\"_\"+df[\"sample\"]\\\n",
    "            +\"_\"+df[\"assay\"]\\\n",
    "            +\"_\"+df['library']\\\n",
    "    \n",
    "df[\"namePE\"] = df[\"target\"]\\\n",
    "            +\"_\"+df[\"sample\"]\\\n",
    "            +\"_\"+df[\"assay\"]\\\n",
    "            +\"_\"+df['library']\\\n",
    "            +\"_\"+df[\"sra\"]\\\n",
    "            +\"_\"+df[\"Paired end\"]\n",
    "\n",
    "df[\"name\"] = df[\"target\"]\\\n",
    "            +\"_\"+df[\"sample\"]\\\n",
    "            +\"_\"+df[\"assay\"]\\\n",
    "            +\"_\"+df['library']\\\n",
    "            +\"_\"+df[\"sra\"]\\\n"
   ]
  },
  {
   "cell_type": "code",
   "execution_count": 180,
   "metadata": {
    "ExecuteTime": {
     "end_time": "2019-08-15T16:56:06.986498Z",
     "start_time": "2019-08-15T16:56:06.983453Z"
    }
   },
   "outputs": [],
   "source": [
    "# len(df)\n",
    "# list(df)"
   ]
  },
  {
   "cell_type": "code",
   "execution_count": 194,
   "metadata": {
    "ExecuteTime": {
     "end_time": "2019-08-15T17:03:37.849817Z",
     "start_time": "2019-08-15T17:03:37.503251Z"
    }
   },
   "outputs": [
    {
     "data": {
      "text/plain": [
       "['HepG2', 'K562']"
      ]
     },
     "execution_count": 194,
     "metadata": {},
     "output_type": "execute_result"
    }
   ],
   "source": [
    "def colToList(df,col):\n",
    "    L = df[col].unique().tolist()\n",
    "    return L\n",
    "\n",
    "assays = colToList(df,\"assay\")\n",
    "# mods = colToList(df,\"Biosample genetic modifications methods\")\n",
    "samples = colToList(df,\"sample\")\n",
    "\n",
    "urls = colToList(df,\"url\")\n",
    "libraries = colToList(df,\"library\")\n",
    "assays,samples,libraries\n",
    "targets = colToList(df,\"target\")\n",
    "\n",
    "def metaDataWrite(df,sample,assay,library):\n",
    "    df = df[df[\"sample\"]==sample]\n",
    "    df = df[df[\"assay\"]==assay]\n",
    "    df = df[df[\"library\"]==library]\n",
    "    out = f\"../samples_metadata/metadata/\"\n",
    "    if len(df) >1:\n",
    "        makeFolders([out])\n",
    "        df.to_csv(f'{out}/{sample}_{assay}_{library}.tsv',sep=\"\\t\",index=None)\n",
    "        df[\"target\"] = df[\"target\"].drop_duplicates()\n",
    "        df = df[[\"target\"]].dropna(axis=0, how='all')\n",
    "        df.to_csv(f'{out}/{sample}_{assay}_{library}_targets.tsv',sep=\"\\t\",index=None)\n",
    "for sample in samples:\n",
    "    for assay in assays:\n",
    "        for library in libraries:\n",
    "            metaDataWrite(df,sample,assay,library)\n",
    "\n",
    "df.to_csv(f'{f1[:-4]}_cleaned.tsv',sep=\"\\t\", index=None)\n",
    "samples"
   ]
  },
  {
   "cell_type": "code",
   "execution_count": 217,
   "metadata": {
    "ExecuteTime": {
     "end_time": "2019-08-15T17:24:20.319998Z",
     "start_time": "2019-08-15T17:24:20.310088Z"
    }
   },
   "outputs": [],
   "source": [
    "def targetDownload(df,target,assay,sample,library,control=False):\n",
    "    if control:\n",
    "        out = f\"../samples_metadata/{assay}/{sample}/{library}/control/\"\n",
    "    else:    \n",
    "        out = f\"../samples_metadata/{assay}/{sample}/{library}/targets/\"\n",
    "    \n",
    "    df = df[df[\"target\"]==target]\n",
    "    df = df[df[\"sample\"]==sample]\n",
    "    df = df[df[\"assay\"]==assay]\n",
    "    df = df[df[\"library\"]==library]\n",
    "    print(len(df))\n",
    "    print(assay)\n",
    "    if len(df) > 0:\n",
    "        makeFolders([f\"../samples_metadata/{assay}\",f\"../samples_metadata/{assay}/{sample}\"])\n",
    "        makeFolders([out])\n",
    "        df.to_csv(f'{out}/{target}_{sample}_{assay}_{library}.tsv',sep=\"\\t\",index=None)\n",
    "        df = df.dropna(axis=0,how=\"all\",subset=[\"namePE\"])\n",
    "        print(assay)\n",
    "        df_small = pd.DataFrame()\n",
    "        for n,dfg in df.groupby(\"name\"):\n",
    "            dft = dfg.sort_values(by=\"namePE\")\n",
    "            dft[\"url2\"] = dft[\"url\"].iloc[1]\n",
    "            dft[\"accession2\"] = dft[\"accession\"].iloc[1]\n",
    "            dft = dft.iloc[0:1]   \n",
    "            df_small = df_small.append(dft)\n",
    "\n",
    "        df_small = df_small[[\"name\",\"target\",\"sample\",\n",
    "                       \"assay\",\"library\",\"condition\",\"url\",\"accession\",\n",
    "                      \"url2\",\"accession2\"]]    \n",
    "        df_small.to_csv(f'{out}/{target}_{sample}_{assay}_{library}_download.tsv',sep=\"\\t\",index=None)\n",
    "\n",
    "        df_small = df_small[[\"name\",\"target\",\"sample\",\n",
    "                       \"assay\",\"library\",\"condition\"]]    \n",
    "        df_small.to_csv(f'{out}/{target}_{sample}_{assay}_{library}_small.tsv',sep=\"\\t\",index=None)\n",
    "\n",
    "        \n",
    "        \n",
    "    return df_small\n",
    "\n"
   ]
  },
  {
   "cell_type": "code",
   "execution_count": 218,
   "metadata": {
    "ExecuteTime": {
     "end_time": "2019-08-15T17:24:21.172492Z",
     "start_time": "2019-08-15T17:24:20.668691Z"
    }
   },
   "outputs": [
    {
     "name": "stdout",
     "output_type": "stream",
     "text": [
      "96\n",
      "shRNA\n",
      "shRNA\n",
      "4\n",
      "shRNA\n",
      "shRNA\n",
      "96\n",
      "shRNA\n",
      "shRNA\n",
      "4\n",
      "shRNA\n",
      "shRNA\n"
     ]
    }
   ],
   "source": [
    "#FUS, MATR3, STAU1, TIA1\n",
    "\n",
    "targets = [\"TARDBP\",\"FUS\"]\n",
    "sample = \"K562\"\n",
    "library = \"POLYA\"\n",
    "assay = \"shRNA\"\n",
    "\n",
    "\n",
    "libraries = [\"POLYA\"]\n",
    "\n",
    "for t in targets:\n",
    "    for library in libraries:\n",
    "        df1 = targetDownload(df,target=\"Control\",\n",
    "                                sample=sample,\n",
    "                                assay=assay,\n",
    "                                library=library,\n",
    "                            control=True)\n",
    "\n",
    "        df2 = targetDownload(df, target=t,\n",
    "                                sample=sample,\n",
    "                                assay=assay,\n",
    "                                library=library)\n",
    "\n",
    "\n",
    "# dfC = targetDownload(df,\"Control\")"
   ]
  },
  {
   "cell_type": "code",
   "execution_count": 197,
   "metadata": {
    "ExecuteTime": {
     "end_time": "2019-08-15T17:03:39.283832Z",
     "start_time": "2019-08-15T17:03:39.276790Z"
    }
   },
   "outputs": [
    {
     "name": "stdout",
     "output_type": "stream",
     "text": [
      "******\n",
      "Control_K562_shRNA_POLYA_SRR4422597\n",
      "******\n",
      "Control_K562_shRNA_POLYA_SRR4422598\n"
     ]
    }
   ],
   "source": [
    "df3 = df1.iloc[0:4]\n",
    "dfglist = []\n",
    "for n,dfg in df3.groupby(\"name\"):\n",
    "    print(\"******\")\n",
    "    print(n)\n",
    "    dfglist.append(dfg)"
   ]
  },
  {
   "cell_type": "code",
   "execution_count": 193,
   "metadata": {
    "ExecuteTime": {
     "end_time": "2019-08-15T17:03:24.781998Z",
     "start_time": "2019-08-15T17:03:24.758446Z"
    }
   },
   "outputs": [
    {
     "data": {
      "text/html": [
       "<div>\n",
       "<style scoped>\n",
       "    .dataframe tbody tr th:only-of-type {\n",
       "        vertical-align: middle;\n",
       "    }\n",
       "\n",
       "    .dataframe tbody tr th {\n",
       "        vertical-align: top;\n",
       "    }\n",
       "\n",
       "    .dataframe thead th {\n",
       "        text-align: right;\n",
       "    }\n",
       "</style>\n",
       "<table border=\"1\" class=\"dataframe\">\n",
       "  <thead>\n",
       "    <tr style=\"text-align: right;\">\n",
       "      <th></th>\n",
       "      <th>accession</th>\n",
       "      <th>File format</th>\n",
       "      <th>Output type</th>\n",
       "      <th>Experiment accession</th>\n",
       "      <th>assay</th>\n",
       "      <th>Biosample term id</th>\n",
       "      <th>sample</th>\n",
       "      <th>Biosample type</th>\n",
       "      <th>organism</th>\n",
       "      <th>Biosample genetic modifications methods</th>\n",
       "      <th>...</th>\n",
       "      <th>url</th>\n",
       "      <th>Platform</th>\n",
       "      <th>Controlled by</th>\n",
       "      <th>File Status</th>\n",
       "      <th>s3_uri</th>\n",
       "      <th>Audit WARNING</th>\n",
       "      <th>Audit INTERNAL_ACTION</th>\n",
       "      <th>condition</th>\n",
       "      <th>namePE</th>\n",
       "      <th>name</th>\n",
       "    </tr>\n",
       "  </thead>\n",
       "  <tbody>\n",
       "    <tr>\n",
       "      <th>3</th>\n",
       "      <td>ENCFF565XPN</td>\n",
       "      <td>fastq</td>\n",
       "      <td>reads</td>\n",
       "      <td>ENCSR118VQR</td>\n",
       "      <td>shRNA</td>\n",
       "      <td>EFO:0001187</td>\n",
       "      <td>HepG2</td>\n",
       "      <td>cell line</td>\n",
       "      <td>Homo sapiens</td>\n",
       "      <td>RNAi</td>\n",
       "      <td>...</td>\n",
       "      <td>https://www.encodeproject.org/files/ENCFF565XP...</td>\n",
       "      <td>Illumina HiSeq 2000</td>\n",
       "      <td>/files/ENCFF006BJQ/, /files/ENCFF366MJN/</td>\n",
       "      <td>released</td>\n",
       "      <td>s3://encode-public/2015/08/13/4fca079a-e471-4b...</td>\n",
       "      <td>missing biosample characterization</td>\n",
       "      <td>NaN</td>\n",
       "      <td>RPS3A_HepG2_shRNA_POLYA</td>\n",
       "      <td>RPS3A_HepG2_shRNA_POLYA_SRR4421372_1</td>\n",
       "      <td>RPS3A_HepG2_shRNA_POLYA_SRR4421372</td>\n",
       "    </tr>\n",
       "  </tbody>\n",
       "</table>\n",
       "<p>1 rows × 41 columns</p>\n",
       "</div>"
      ],
      "text/plain": [
       "     accession File format Output type Experiment accession  assay  \\\n",
       "3  ENCFF565XPN       fastq       reads          ENCSR118VQR  shRNA   \n",
       "\n",
       "  Biosample term id sample Biosample type      organism  \\\n",
       "3       EFO:0001187  HepG2      cell line  Homo sapiens   \n",
       "\n",
       "  Biosample genetic modifications methods  ...  \\\n",
       "3                                    RNAi  ...   \n",
       "\n",
       "                                                 url             Platform  \\\n",
       "3  https://www.encodeproject.org/files/ENCFF565XP...  Illumina HiSeq 2000   \n",
       "\n",
       "                              Controlled by File Status  \\\n",
       "3  /files/ENCFF006BJQ/, /files/ENCFF366MJN/    released   \n",
       "\n",
       "                                              s3_uri  \\\n",
       "3  s3://encode-public/2015/08/13/4fca079a-e471-4b...   \n",
       "\n",
       "                        Audit WARNING Audit INTERNAL_ACTION  \\\n",
       "3  missing biosample characterization                   NaN   \n",
       "\n",
       "                 condition                                namePE  \\\n",
       "3  RPS3A_HepG2_shRNA_POLYA  RPS3A_HepG2_shRNA_POLYA_SRR4421372_1   \n",
       "\n",
       "                                 name  \n",
       "3  RPS3A_HepG2_shRNA_POLYA_SRR4421372  \n",
       "\n",
       "[1 rows x 41 columns]"
      ]
     },
     "execution_count": 193,
     "metadata": {},
     "output_type": "execute_result"
    }
   ],
   "source": [
    "dft = dfglist[0]\n",
    "\n",
    "dft"
   ]
  },
  {
   "cell_type": "code",
   "execution_count": 34,
   "metadata": {
    "ExecuteTime": {
     "end_time": "2019-08-12T16:14:50.985465Z",
     "start_time": "2019-08-12T16:14:50.979322Z"
    }
   },
   "outputs": [],
   "source": [
    "# Use to download one file with python\n",
    "\n",
    "def downloadRenameFastq(df):\n",
    "    for x in range(len(df)):\n",
    "        print(\"downloading \",x)\n",
    "        url = df[\"url\"].iloc[x]\n",
    "        accession = df[\"accessiongz\"].iloc[x]\n",
    "        name = df[\"namegz\"].iloc[x]\n",
    "        subprocess.run(f\"wget {url}\",shell=True)\n",
    "        os.rename(accession,name)\n",
    "        print(\"done downloading\",x)\n",
    "    \n",
    "# downloadRenameFastq(dfC1)"
   ]
  },
  {
   "cell_type": "code",
   "execution_count": null,
   "metadata": {},
   "outputs": [],
   "source": []
  }
 ],
 "metadata": {
  "kernelspec": {
   "display_name": "Python 3",
   "language": "python",
   "name": "python3"
  },
  "language_info": {
   "codemirror_mode": {
    "name": "ipython",
    "version": 3
   },
   "file_extension": ".py",
   "mimetype": "text/x-python",
   "name": "python",
   "nbconvert_exporter": "python",
   "pygments_lexer": "ipython3",
   "version": "3.7.3"
  },
  "toc": {
   "base_numbering": 1,
   "nav_menu": {},
   "number_sections": true,
   "sideBar": true,
   "skip_h1_title": false,
   "title_cell": "Table of Contents",
   "title_sidebar": "Contents",
   "toc_cell": false,
   "toc_position": {},
   "toc_section_display": true,
   "toc_window_display": false
  }
 },
 "nbformat": 4,
 "nbformat_minor": 2
}
