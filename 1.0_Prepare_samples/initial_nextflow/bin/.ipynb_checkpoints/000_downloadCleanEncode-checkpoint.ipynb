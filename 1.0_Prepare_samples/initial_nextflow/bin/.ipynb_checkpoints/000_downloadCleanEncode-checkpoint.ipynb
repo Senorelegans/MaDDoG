{
 "cells": [
  {
   "cell_type": "code",
   "execution_count": 137,
   "metadata": {
    "ExecuteTime": {
     "end_time": "2019-08-15T14:28:16.319275Z",
     "start_time": "2019-08-15T14:28:16.304067Z"
    }
   },
   "outputs": [],
   "source": [
    "%matplotlib inline\n",
    "\n",
    "\n",
    "import numpy as np\n",
    "import matplotlib.pyplot as plt\n",
    "import os\n",
    "import pandas as pd\n",
    "import requests, json\n",
    "import subprocess"
   ]
  },
  {
   "cell_type": "code",
   "execution_count": 138,
   "metadata": {
    "ExecuteTime": {
     "end_time": "2019-08-15T14:28:17.144216Z",
     "start_time": "2019-08-15T14:28:17.141672Z"
    }
   },
   "outputs": [],
   "source": [
    "#export\n",
    "from nb_00 import *"
   ]
  },
  {
   "cell_type": "markdown",
   "metadata": {},
   "source": [
    "### Download Hepg2 and K562 eclip and shRNA\n",
    "\n",
    "Select appropriate filters at https://www.encodeproject.org/search/?type=Experiment&status=released&biosample_ontology.term_name=HepG2&assay_title=shRNA+RNA-seq&assay_title=eCLIP&biosample_ontology.term_name=K562\n",
    "\n",
    "hit download. and grab this as first line from download file\n",
    "\n",
    "https://www.encodeproject.org/metadata/type%3DExperiment%26status%3Dreleased%26biosample_ontology.term_name%3DHepG2%26assay_title%3DshRNA%2BRNA-seq%26assay_title%3DeCLIP%26biosample_ontology.term_name%3DK562/metadata.tsv"
   ]
  },
  {
   "cell_type": "code",
   "execution_count": 43,
   "metadata": {
    "ExecuteTime": {
     "end_time": "2019-08-12T16:26:46.108532Z",
     "start_time": "2019-08-12T16:26:19.641467Z"
    }
   },
   "outputs": [
    {
     "name": "stdout",
     "output_type": "stream",
     "text": [
      "--2019-08-12 10:26:20--  https://www.encodeproject.org/metadata/type%3DExperiment%26status%3Dreleased%26biosample_ontology.term_name%3DHepG2%26assay_title%3DshRNA%2BRNA-seq%26assay_title%3DeCLIP%26biosample_ontology.term_name%3DK562/metadata.tsv\n",
      "Resolving www.encodeproject.org (www.encodeproject.org)... 34.211.244.144\n",
      "Connecting to www.encodeproject.org (www.encodeproject.org)|34.211.244.144|:443... connected.\n",
      "HTTP request sent, awaiting response... 200 OK\n",
      "Length: 29207224 (28M) [text/tsv]\n",
      "Saving to: ‘metadata.tsv’\n",
      "\n",
      "metadata.tsv        100%[===================>]  27.85M  1.72MB/s    in 17s     \n",
      "\n",
      "2019-08-12 10:26:45 (1.59 MB/s) - ‘metadata.tsv’ saved [29207224/29207224]\n",
      "\n"
     ]
    }
   ],
   "source": [
    "# Once you have the first line put behind !wget\n",
    "\n",
    "!wget https://www.encodeproject.org/metadata/type%3DExperiment%26status%3Dreleased%26biosample_ontology.term_name%3DHepG2%26assay_title%3DshRNA%2BRNA-seq%26assay_title%3DeCLIP%26biosample_ontology.term_name%3DK562/metadata.tsv\n",
    "makeFolders([\"../samples_metadata\"])\n",
    "os.rename(\"metadata.tsv\",\"../samples_metadata/metadata_K62_HEP_shRNA_eclip.tsv\")    "
   ]
  },
  {
   "cell_type": "code",
   "execution_count": 139,
   "metadata": {
    "ExecuteTime": {
     "end_time": "2019-08-15T14:28:20.200809Z",
     "start_time": "2019-08-15T14:28:19.199011Z"
    }
   },
   "outputs": [],
   "source": [
    "f1 = \"../samples_metadata/metadata_K62_HEP_shRNA_eclip.tsv\"\n",
    "df = pd.read_csv(f1, sep=\"\\t\")\n",
    "df = df[df[\"File format\"]==\"fastq\"]\n",
    "for col in list(df):\n",
    "    if df[col].isnull().all(): # Remove nan columns\n",
    "        del df[col]\n",
    "\n",
    "df = df.rename(columns={\"Assay\": \"assay\", \n",
    "                   \"Experiment target\": \"target\",\n",
    "                   'Library made from':\"library\",\n",
    "                   \"Biosample term name\":\"sample\",\n",
    "                   \"Biosample organism\":\"organism\",\n",
    "                   \"dbxrefs\":\"sra\",\n",
    "                   \"File download URL\":\"url\"\n",
    "                  })        \n",
    "        \n",
    "# df[\"Biosample genetic modifications methods\"] = df[\"Biosample genetic modifications targets\"] \\\n",
    "#     .replace(\"/targets/Non-specific%20target%20\",\"\")\\\n",
    "#     .replace(\"/targets/\",\"\")\\\n",
    "#     .replace(\"-human\",\"\")        \n",
    "\n",
    "df[\"assay\"] = df[\"assay\"].str.replace(\" knockdown followed by RNA-seq\",\"\")\n",
    "df[\"target\"] = df[\"target\"].str.replace(\"-human\",\"\").replace(\"Non-specific target control\",\"Control\")\n",
    "        \n",
    "df[\"sra\"] = df[\"sra\"].str.replace(\"SRA:\",\"\")    \n",
    "df['library'] = df['library'].str.replace(\"polyadenylated mRNA\",\"POLYA\").str.replace(\"RNA\",\"TOTAL\")    \n",
    "df[\"Paired end\"] = df[\"Paired end\"].astype(int).astype(str)\n",
    "   \n",
    "df[\"condition\"] = df[\"target\"]\\\n",
    "            +\"_\"+df[\"sample\"]\\\n",
    "            +\"_\"+df[\"assay\"]\\\n",
    "            +\"_\"+df['library']\\\n",
    "    \n",
    "df[\"namePE\"] = df[\"target\"]\\\n",
    "            +\"_\"+df[\"sample\"]\\\n",
    "            +\"_\"+df[\"assay\"]\\\n",
    "            +\"_\"+df['library']\\\n",
    "            +\"_\"+df[\"sra\"]\\\n",
    "            +\"_\"+df[\"Paired end\"]\n",
    "\n",
    "df[\"name\"] = df[\"target\"]\\\n",
    "            +\"_\"+df[\"sample\"]\\\n",
    "            +\"_\"+df[\"assay\"]\\\n",
    "            +\"_\"+df['library']\\\n",
    "            +\"_\"+df[\"sra\"]\\\n",
    "\n",
    "\n",
    "df[\"accessiongz\"] = df[\"File accession\"]+\".fastq.gz\"\n",
    "df[\"namePEgz\"] = df[\"namePE\"]+\".fastq.gz\"\n",
    "# df.head()\n"
   ]
  },
  {
   "cell_type": "code",
   "execution_count": 140,
   "metadata": {
    "ExecuteTime": {
     "end_time": "2019-08-15T14:28:20.295236Z",
     "start_time": "2019-08-15T14:28:20.292679Z"
    }
   },
   "outputs": [],
   "source": [
    "# len(df)\n",
    "# list(df)"
   ]
  },
  {
   "cell_type": "code",
   "execution_count": 141,
   "metadata": {
    "ExecuteTime": {
     "end_time": "2019-08-15T14:28:21.292190Z",
     "start_time": "2019-08-15T14:28:20.765793Z"
    }
   },
   "outputs": [
    {
     "data": {
      "text/plain": [
       "['HepG2', 'K562']"
      ]
     },
     "execution_count": 141,
     "metadata": {},
     "output_type": "execute_result"
    }
   ],
   "source": [
    "def colToList(df,col):\n",
    "    L = df[col].unique().tolist()\n",
    "    return L\n",
    "\n",
    "assays = colToList(df,\"assay\")\n",
    "# mods = colToList(df,\"Biosample genetic modifications methods\")\n",
    "samples = colToList(df,\"sample\")\n",
    "\n",
    "urls = colToList(df,\"url\")\n",
    "libraries = colToList(df,\"library\")\n",
    "assays,samples,libraries\n",
    "targets = colToList(df,\"target\")\n",
    "\n",
    "def metaDataWrite(df,sample,assay,library):\n",
    "    df = df[df[\"sample\"]==sample]\n",
    "    df = df[df[\"assay\"]==assay]\n",
    "    df = df[df[\"library\"]==library]\n",
    "    out = f\"../samples_metadata/metadata/\"\n",
    "    if len(df) >1:\n",
    "        makeFolders([out])\n",
    "        df.to_csv(f'{out}/{sample}_{assay}_{library}.tsv',sep=\"\\t\",index=None)\n",
    "        df[\"target\"] = df[\"target\"].drop_duplicates()\n",
    "        df = df[[\"target\"]].dropna(axis=0, how='all')\n",
    "        df.to_csv(f'{out}/{sample}_{assay}_{library}_targets.tsv',sep=\"\\t\",index=None)\n",
    "for sample in samples:\n",
    "    for assay in assays:\n",
    "        for library in libraries:\n",
    "            metaDataWrite(df,sample,assay,library)\n",
    "\n",
    "df.to_csv(f'{f1[:-4]}_cleaned.tsv',sep=\"\\t\", index=None)\n",
    "samples"
   ]
  },
  {
   "cell_type": "code",
   "execution_count": 143,
   "metadata": {
    "ExecuteTime": {
     "end_time": "2019-08-15T14:30:25.597048Z",
     "start_time": "2019-08-15T14:30:25.590035Z"
    }
   },
   "outputs": [],
   "source": [
    "def targetDownload(df,target,assay,sample,library,control=False):\n",
    "    if control:\n",
    "        out = f\"../samples_metadata/{assay}/{sample}/{library}/control/\"\n",
    "    else:    \n",
    "        out = f\"../samples_metadata/{assay}/{sample}/{library}/targets/\"\n",
    "    \n",
    "    df = df[df[\"target\"]==target]\n",
    "    df = df[df[\"sample\"]==sample]\n",
    "    df = df[df[\"assay\"]==assay]\n",
    "    df = df[df[\"library\"]==library]\n",
    "    print(len(df))\n",
    "    print(assay)\n",
    "    if len(df) > 0:\n",
    "        makeFolders([f\"../samples_metadata/{assay}\",f\"../samples_metadata/{assay}/{sample}\"])\n",
    "        makeFolders([out])\n",
    "        df.to_csv(f'{out}/{target}_{sample}_{assay}_{library}.tsv',sep=\"\\t\",index=None)\n",
    "        df_small = df[[\"condition\",\"url\",\"accessiongz\",\"namePEgz\",\"name\"]]    \n",
    "        df_small = df_small.dropna(axis=0,how=\"all\",subset=[\"namegz\"]) \n",
    "        df_small.to_csv(f'{out}/{target}_{sample}_{assay}_{library}_small.tsv',sep=\"\\t\",index=None)\n",
    "\n",
    "\n"
   ]
  },
  {
   "cell_type": "code",
   "execution_count": 136,
   "metadata": {
    "ExecuteTime": {
     "end_time": "2019-08-12T18:38:12.034173Z",
     "start_time": "2019-08-12T18:38:11.883204Z"
    }
   },
   "outputs": [
    {
     "name": "stdout",
     "output_type": "stream",
     "text": [
      "96\n",
      "shRNA\n",
      "4\n",
      "shRNA\n",
      "96\n",
      "shRNA\n",
      "4\n",
      "shRNA\n",
      "96\n",
      "shRNA\n",
      "4\n",
      "shRNA\n"
     ]
    }
   ],
   "source": [
    "#FUS, MATR3, STAU1, TIA1\n",
    "\n",
    "targets = [\"TARDBP\",\"FUS\",\"MATR3\"]\n",
    "sample = \"K562\"\n",
    "library = \"POLYA\"\n",
    "assay = \"shRNA\"\n",
    "\n",
    "\n",
    "libraries = [\"POLYA\"]\n",
    "\n",
    "for t in targets:\n",
    "    for library in libraries:\n",
    "        targetDownload(df,target=\"Control\",\n",
    "                                sample=sample,\n",
    "                                assay=assay,\n",
    "                                library=library,\n",
    "                            control=True)\n",
    "\n",
    "        targetDownload(df, target=t,\n",
    "                                sample=sample,\n",
    "                                assay=assay,\n",
    "                                library=library)\n",
    "\n",
    "\n",
    "# dfC = targetDownload(df,\"Control\")"
   ]
  },
  {
   "cell_type": "code",
   "execution_count": 34,
   "metadata": {
    "ExecuteTime": {
     "end_time": "2019-08-12T16:14:50.985465Z",
     "start_time": "2019-08-12T16:14:50.979322Z"
    }
   },
   "outputs": [],
   "source": [
    "# Use to download one file with python\n",
    "\n",
    "def downloadRenameFastq(df):\n",
    "    for x in range(len(df)):\n",
    "        print(\"downloading \",x)\n",
    "        url = df[\"url\"].iloc[x]\n",
    "        accession = df[\"accessiongz\"].iloc[x]\n",
    "        name = df[\"namegz\"].iloc[x]\n",
    "        subprocess.run(f\"wget {url}\",shell=True)\n",
    "        os.rename(accession,name)\n",
    "        print(\"done downloading\",x)\n",
    "    \n",
    "# downloadRenameFastq(dfC1)"
   ]
  },
  {
   "cell_type": "code",
   "execution_count": null,
   "metadata": {},
   "outputs": [],
   "source": []
  }
 ],
 "metadata": {
  "kernelspec": {
   "display_name": "Python 3",
   "language": "python",
   "name": "python3"
  },
  "language_info": {
   "codemirror_mode": {
    "name": "ipython",
    "version": 3
   },
   "file_extension": ".py",
   "mimetype": "text/x-python",
   "name": "python",
   "nbconvert_exporter": "python",
   "pygments_lexer": "ipython3",
   "version": "3.7.3"
  },
  "toc": {
   "base_numbering": 1,
   "nav_menu": {},
   "number_sections": true,
   "sideBar": true,
   "skip_h1_title": false,
   "title_cell": "Table of Contents",
   "title_sidebar": "Contents",
   "toc_cell": false,
   "toc_position": {},
   "toc_section_display": true,
   "toc_window_display": false
  }
 },
 "nbformat": 4,
 "nbformat_minor": 2
}
